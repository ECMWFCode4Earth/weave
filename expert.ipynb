{
 "cells": [
  {
   "cell_type": "code",
   "execution_count": 1,
   "id": "2c357c4e-4ea4-4837-9c33-bafaf0251432",
   "metadata": {},
   "outputs": [
    {
     "name": "stderr",
     "output_type": "stream",
     "text": [
      "ERROR 1: PROJ: proj_create_from_database: Open of /net/nfs/tools/u20/Python/miniconda3_py311_23.11.0-2/envs/pangeo-meso-2024.01.22/share/proj failed\n"
     ]
    }
   ],
   "source": [
    "from weavepy import *\n",
    "from config import BDD_VERSION\n",
    "sns.set_context(\"talk\")"
   ]
  },
  {
   "cell_type": "code",
   "execution_count": 2,
   "id": "804f0959-f723-4e2e-850e-9c0d75450213",
   "metadata": {},
   "outputs": [],
   "source": [
    "# --- Parameters for loading data ---\n",
    "# It is expected that these will be changed rarely\n",
    "## Variables\n",
    "climate_variable = \"TA\"\n",
    "energy_variable = \"SPV\"\n",
    "techno = \"60\" # Techno needs to be specified for energy variables\n",
    "## Temporal aggregation\n",
    "aggregation_frequency = \"D\"\n",
    "aggregation_function = \"mean\"\n",
    "## Selection\n",
    "country = \"FR\"\n",
    "models = []\n",
    "scenarios = []"
   ]
  },
  {
   "cell_type": "code",
   "execution_count": 3,
   "id": "2c314144-62ca-4f14-9098-08bb1e7801c8",
   "metadata": {
    "jupyter": {
     "source_hidden": true
    }
   },
   "outputs": [
    {
     "name": "stdout",
     "output_type": "stream",
     "text": [
      "Loading country n°1/1 (FR)\n",
      "|_Variable n°1/2 (TA)\n",
      "|__Techno n°1/1 (NA)\n",
      "|__ > File already exists, loading from cache: /data/sbourdin/PECD42_cache_data/PECD42/TA_NA_D-mean_FR_PECD42.nc\n",
      "|_Variable n°2/2 (SPV)\n",
      "|__Techno n°1/1 (60)\n",
      "|__ > File already exists, loading from cache: /data/sbourdin/PECD42_cache_data/PECD42/SPV_60_D-mean_FR_PECD42.nc\n"
     ]
    }
   ],
   "source": [
    "data = load_vars([climate_variable, energy_variable], bdd_version = BDD_VERSION,\n",
    "              countries = [country], technos = [\"NA\", techno], models = models, scenarios = scenarios, \n",
    "              aggregation_frequency = aggregation_frequency, aggregation_function = aggregation_function,\n",
    "              verbose=True)"
   ]
  },
  {
   "cell_type": "code",
   "execution_count": 4,
   "id": "bbd987e2-8375-49ed-9ba4-22945494a256",
   "metadata": {},
   "outputs": [],
   "source": [
    "# --- Period ---\n",
    "# These can be changed and adjusted easily\n",
    "historical_period = (1990, 2020)\n",
    "future_period = (2070, 2100)"
   ]
  },
  {
   "cell_type": "code",
   "execution_count": 5,
   "id": "041c3917-dbe1-4efa-9dc8-a8c56d31475d",
   "metadata": {},
   "outputs": [],
   "source": [
    "# --- Thresholds ---\n",
    "# These can be changed and adjusted easily\n",
    "## Climate\n",
    "climate_variable_comparison = '<=' # '<', '<=', '>', or '>='\n",
    "climate_variable_threshold = 5 # Number in units of variable\n",
    "## Energy \n",
    "energy_variable_comparison = '<' # '<', '<=', '>', or '>='\n",
    "energy_variable_threshold = 0.05 # Number in units of variable"
   ]
  },
  {
   "cell_type": "code",
   "execution_count": 6,
   "id": "0e4f7f68-3f55-49e8-95f8-de4b398527f3",
   "metadata": {},
   "outputs": [],
   "source": [
    "# Identify problematic days\n",
    "climate_days = identify_pb_days(data[climate_variable], climate_variable_comparison, climate_variable_threshold).rename(\"climate_event\")\n",
    "energy_days = identify_pb_days(data[energy_variable], energy_variable_comparison, energy_variable_threshold).rename(\"energy_event\")\n",
    "compound_days = (climate_days & energy_days).rename(\"compound_event\")"
   ]
  },
  {
   "cell_type": "code",
   "execution_count": 7,
   "id": "ce7b0cb0-fee6-4bb5-9e3d-ebfd6f069752",
   "metadata": {},
   "outputs": [
    {
     "name": "stderr",
     "output_type": "stream",
     "text": [
      "  3%|▎         | 1/35 [00:00<00:00, 36.80it/s]\n"
     ]
    },
    {
     "ename": "AttributeError",
     "evalue": "module 'numpy' has no attribute 'concat'",
     "output_type": "error",
     "traceback": [
      "\u001b[0;31m---------------------------------------------------------------------------\u001b[0m",
      "\u001b[0;31mAttributeError\u001b[0m                            Traceback (most recent call last)",
      "Cell \u001b[0;32mIn[7], line 2\u001b[0m\n\u001b[1;32m      1\u001b[0m \u001b[38;5;66;03m# Identify events\u001b[39;00m\n\u001b[0;32m----> 2\u001b[0m climate_events \u001b[38;5;241m=\u001b[39m \u001b[43midentify_events_whole_base\u001b[49m\u001b[43m(\u001b[49m\u001b[43mclimate_days\u001b[49m\u001b[43m)\u001b[49m\n\u001b[1;32m      3\u001b[0m energy_events \u001b[38;5;241m=\u001b[39m identify_events_whole_base(energy_days)\n\u001b[1;32m      4\u001b[0m compound_events \u001b[38;5;241m=\u001b[39m identify_events_whole_base(compound_days)\n",
      "File \u001b[0;32m~/weave/weavepy/events.py:46\u001b[0m, in \u001b[0;36midentify_events_whole_base\u001b[0;34m(pb_days)\u001b[0m\n\u001b[1;32m     44\u001b[0m \u001b[38;5;28;01mif\u001b[39;00m \u001b[38;5;28mlen\u001b[39m(new_events) \u001b[38;5;241m>\u001b[39m \u001b[38;5;241m0\u001b[39m: \n\u001b[1;32m     45\u001b[0m     \u001b[38;5;28;01mif\u001b[39;00m \u001b[38;5;28mlen\u001b[39m(events) \u001b[38;5;241m>\u001b[39m \u001b[38;5;241m0\u001b[39m:\n\u001b[0;32m---> 46\u001b[0m         events \u001b[38;5;241m=\u001b[39m \u001b[43mnp\u001b[49m\u001b[38;5;241;43m.\u001b[39;49m\u001b[43mconcat\u001b[49m([events, new_events])\n\u001b[1;32m     47\u001b[0m     \u001b[38;5;28;01melse\u001b[39;00m:\n\u001b[1;32m     48\u001b[0m         events \u001b[38;5;241m=\u001b[39m new_events\u001b[38;5;241m.\u001b[39mcopy()\n",
      "File \u001b[0;32m/net/nfs/tools/u20/Python/miniconda3_py311_23.11.0-2/envs/pangeo-meso-2024.01.22/lib/python3.11/site-packages/numpy/__init__.py:333\u001b[0m, in \u001b[0;36m__getattr__\u001b[0;34m(attr)\u001b[0m\n\u001b[1;32m    330\u001b[0m     \u001b[38;5;124m\"\u001b[39m\u001b[38;5;124mRemoved in NumPy 1.25.0\u001b[39m\u001b[38;5;124m\"\u001b[39m\n\u001b[1;32m    331\u001b[0m     \u001b[38;5;28;01mraise\u001b[39;00m \u001b[38;5;167;01mRuntimeError\u001b[39;00m(\u001b[38;5;124m\"\u001b[39m\u001b[38;5;124mTester was removed in NumPy 1.25.\u001b[39m\u001b[38;5;124m\"\u001b[39m)\n\u001b[0;32m--> 333\u001b[0m \u001b[38;5;28;01mraise\u001b[39;00m \u001b[38;5;167;01mAttributeError\u001b[39;00m(\u001b[38;5;124m\"\u001b[39m\u001b[38;5;124mmodule \u001b[39m\u001b[38;5;132;01m{!r}\u001b[39;00m\u001b[38;5;124m has no attribute \u001b[39m\u001b[38;5;124m\"\u001b[39m\n\u001b[1;32m    334\u001b[0m                      \u001b[38;5;124m\"\u001b[39m\u001b[38;5;132;01m{!r}\u001b[39;00m\u001b[38;5;124m\"\u001b[39m\u001b[38;5;241m.\u001b[39mformat(\u001b[38;5;18m__name__\u001b[39m, attr))\n",
      "\u001b[0;31mAttributeError\u001b[0m: module 'numpy' has no attribute 'concat'"
     ]
    }
   ],
   "source": [
    "# Identify events\n",
    "climate_events = identify_events_whole_base(climate_days)\n",
    "energy_events = identify_events_whole_base(energy_days)\n",
    "compound_events = identify_events_whole_base(compound_days)"
   ]
  },
  {
   "cell_type": "code",
   "execution_count": null,
   "id": "cc2116f4-baee-4ecb-9214-719b062ee933",
   "metadata": {},
   "outputs": [],
   "source": [
    "# Compute number of events per year\n",
    "N_climate_events, N_energy_events, N_compound_events = [count_events(e) for e in [climate_events, energy_events, compound_events]]"
   ]
  },
  {
   "cell_type": "code",
   "execution_count": null,
   "id": "2f8f71b1-9c5c-4205-ba81-4a9b89fda4c9",
   "metadata": {},
   "outputs": [],
   "source": [
    "nb_event_timeseries_plotly_multi([N_climate_events, N_energy_events, N_compound_events])"
   ]
  },
  {
   "cell_type": "code",
   "execution_count": null,
   "id": "c2800187-d34d-49c7-8148-0f27b921463d",
   "metadata": {},
   "outputs": [],
   "source": [
    "event_duration_hist(climate_events, energy_events, compound_events)"
   ]
  },
  {
   "cell_type": "code",
   "execution_count": null,
   "id": "26754a2e-7bd2-4610-b6fb-919e21ec71ec",
   "metadata": {},
   "outputs": [],
   "source": [
    "event_seasonality_kde(climate_days, energy_days, compound_days)"
   ]
  }
 ],
 "metadata": {
  "kernelspec": {
   "display_name": "Python 3",
   "language": "python",
   "name": "python3"
  },
  "language_info": {
   "codemirror_mode": {
    "name": "ipython",
    "version": 3
   },
   "file_extension": ".py",
   "mimetype": "text/x-python",
   "name": "python",
   "nbconvert_exporter": "python",
   "pygments_lexer": "ipython3",
   "version": "3.11.7"
  }
 },
 "nbformat": 4,
 "nbformat_minor": 5
}
