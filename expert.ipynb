{
 "cells": [
  {
   "cell_type": "code",
   "execution_count": 1,
   "id": "2c357c4e-4ea4-4837-9c33-bafaf0251432",
   "metadata": {},
   "outputs": [],
   "source": [
    "from weavepy import *\n",
    "import xarray as xr\n",
    "import seaborn as sns\n",
    "sns.set_context(\"talk\")"
   ]
  },
  {
   "cell_type": "code",
   "execution_count": 7,
   "id": "804f0959-f723-4e2e-850e-9c0d75450213",
   "metadata": {},
   "outputs": [],
   "source": [
    "# --- Parameters for loading data ---\n",
    "# It is expected that these will be changed rarely\n",
    "## Variables\n",
    "climate_variable = \"TA\"\n",
    "energy_variable = \"SPV\"\n",
    "vars = [climate_variable, energy_variable]\n",
    "techno = \"60\" # Techno needs to be specified for energy variables\n",
    "## Temporal aggregation\n",
    "aggregation_frequency = \"D\"\n",
    "aggregation_function = \"mean\"\n",
    "## Selection\n",
    "country = \"AL\"\n",
    "models = []\n",
    "scenarios = []"
   ]
  },
  {
   "cell_type": "code",
   "execution_count": 8,
   "id": "2c314144-62ca-4f14-9098-08bb1e7801c8",
   "metadata": {},
   "outputs": [
    {
     "name": "stdout",
     "output_type": "stream",
     "text": [
      "Loading country 1/1 (AL)\n",
      "|_Variable 1/2 (TA)\n",
      "|__Techno 1/1 (NA)\n",
      "|__ > File exists, loading from cache: /Users/bourdin/Library/CloudStorage/OneDrive-Nexus365/WEAVE/PECD4.2/TA_NA_D-mean_AL_PECD4.2.nc\n",
      "|_Variable 2/2 (SPV)\n",
      "|__Techno 1/1 (60)\n",
      "|__ > File not found, loading from source. Estimated processing time = 1 minute.\n"
     ]
    },
    {
     "ename": "FileNotFoundError",
     "evalue": "No matching CSV files found for variable 'SPV' in /Users/bourdin/Library/CloudStorage/OneDrive-Nexus365/WEAVE/PECD4.2",
     "output_type": "error",
     "traceback": [
      "\u001b[31m---------------------------------------------------------------------------\u001b[39m",
      "\u001b[31mFileNotFoundError\u001b[39m                         Traceback (most recent call last)",
      "\u001b[36mCell\u001b[39m\u001b[36m \u001b[39m\u001b[32mIn[8]\u001b[39m\u001b[32m, line 1\u001b[39m\n\u001b[32m----> \u001b[39m\u001b[32m1\u001b[39m data = \u001b[43mload_vars\u001b[49m\u001b[43m(\u001b[49m\u001b[43m[\u001b[49m\u001b[43mclimate_variable\u001b[49m\u001b[43m,\u001b[49m\u001b[43m \u001b[49m\u001b[43menergy_variable\u001b[49m\u001b[43m]\u001b[49m\u001b[43m,\u001b[49m\u001b[43m \u001b[49m\u001b[43mbdd_version\u001b[49m\u001b[43m \u001b[49m\u001b[43m=\u001b[49m\u001b[43m \u001b[49m\u001b[43mBDD_VERSION\u001b[49m\u001b[43m,\u001b[49m\n\u001b[32m      2\u001b[39m \u001b[43m              \u001b[49m\u001b[43mcountries\u001b[49m\u001b[43m \u001b[49m\u001b[43m=\u001b[49m\u001b[43m \u001b[49m\u001b[43m[\u001b[49m\u001b[43mcountry\u001b[49m\u001b[43m]\u001b[49m\u001b[43m,\u001b[49m\u001b[43m \u001b[49m\u001b[43mtechnos\u001b[49m\u001b[43m \u001b[49m\u001b[43m=\u001b[49m\u001b[43m \u001b[49m\u001b[43m[\u001b[49m\u001b[33;43m\"\u001b[39;49m\u001b[33;43mNA\u001b[39;49m\u001b[33;43m\"\u001b[39;49m\u001b[43m,\u001b[49m\u001b[43m \u001b[49m\u001b[43mtechno\u001b[49m\u001b[43m]\u001b[49m\u001b[43m,\u001b[49m\u001b[43m \u001b[49m\u001b[43mmodels\u001b[49m\u001b[43m \u001b[49m\u001b[43m=\u001b[49m\u001b[43m \u001b[49m\u001b[43mmodels\u001b[49m\u001b[43m,\u001b[49m\u001b[43m \u001b[49m\u001b[43mscenarios\u001b[49m\u001b[43m \u001b[49m\u001b[43m=\u001b[49m\u001b[43m \u001b[49m\u001b[43mscenarios\u001b[49m\u001b[43m,\u001b[49m\u001b[43m \u001b[49m\n\u001b[32m      3\u001b[39m \u001b[43m              \u001b[49m\u001b[43maggregation_frequency\u001b[49m\u001b[43m \u001b[49m\u001b[43m=\u001b[49m\u001b[43m \u001b[49m\u001b[43maggregation_frequency\u001b[49m\u001b[43m,\u001b[49m\u001b[43m \u001b[49m\u001b[43maggregation_function\u001b[49m\u001b[43m \u001b[49m\u001b[43m=\u001b[49m\u001b[43m \u001b[49m\u001b[43maggregation_function\u001b[49m\u001b[43m,\u001b[49m\n\u001b[32m      4\u001b[39m \u001b[43m              \u001b[49m\u001b[43mverbose\u001b[49m\u001b[43m=\u001b[49m\u001b[38;5;28;43;01mTrue\u001b[39;49;00m\u001b[43m)\u001b[49m\n",
      "\u001b[36mFile \u001b[39m\u001b[32m~/Library/CloudStorage/OneDrive-Nexus365/WEAVE/weave/weavepy/load.py:73\u001b[39m, in \u001b[36mload_vars\u001b[39m\u001b[34m(vars, bdd_version, countries, technos, models, scenarios, aggregation_frequency, aggregation_function, verbose)\u001b[39m\n\u001b[32m     71\u001b[39m         \u001b[38;5;28;01mif\u001b[39;00m verbose:\n\u001b[32m     72\u001b[39m             \u001b[38;5;28mprint\u001b[39m(\u001b[33mf\u001b[39m\u001b[33m\"\u001b[39m\u001b[33m|__ > File not found, loading from source. Estimated processing time = 1 minute.\u001b[39m\u001b[33m\"\u001b[39m)\n\u001b[32m---> \u001b[39m\u001b[32m73\u001b[39m         data_per_techno[techno] = \u001b[43mget_data\u001b[49m\u001b[43m(\u001b[49m\n\u001b[32m     74\u001b[39m \u001b[43m            \u001b[49m\u001b[43mvariable\u001b[49m\u001b[43m=\u001b[49m\u001b[43mvar\u001b[49m\u001b[43m,\u001b[49m\u001b[43m \u001b[49m\u001b[43mbdd_version\u001b[49m\u001b[43m=\u001b[49m\u001b[43mbdd_version\u001b[49m\u001b[43m,\u001b[49m\u001b[43m \u001b[49m\u001b[43mcountries\u001b[49m\u001b[43m=\u001b[49m\u001b[43m[\u001b[49m\u001b[43mcountry\u001b[49m\u001b[43m]\u001b[49m\u001b[43m,\u001b[49m\u001b[43m \u001b[49m\u001b[43mtechnos\u001b[49m\u001b[43m=\u001b[49m\u001b[43m[\u001b[49m\u001b[43mtechno\u001b[49m\u001b[43m]\u001b[49m\u001b[43m,\u001b[49m\n\u001b[32m     75\u001b[39m \u001b[43m            \u001b[49m\u001b[43mmodels\u001b[49m\u001b[43m=\u001b[49m\u001b[43mmodels\u001b[49m\u001b[43m,\u001b[49m\u001b[43m \u001b[49m\u001b[43mscenarios\u001b[49m\u001b[43m=\u001b[49m\u001b[43mscenarios\u001b[49m\u001b[43m,\u001b[49m\u001b[43m \u001b[49m\u001b[43maggregation_frequency\u001b[49m\u001b[43m=\u001b[49m\u001b[43maggregation_frequency\u001b[49m\u001b[43m,\u001b[49m\n\u001b[32m     76\u001b[39m \u001b[43m            \u001b[49m\u001b[43maggregation_function\u001b[49m\u001b[43m=\u001b[49m\u001b[43maggregation_function\u001b[49m\u001b[43m,\u001b[49m\u001b[43m \u001b[49m\u001b[43mverbose\u001b[49m\u001b[43m=\u001b[49m\u001b[43mverbose\u001b[49m\n\u001b[32m     77\u001b[39m \u001b[43m        \u001b[49m\u001b[43m)\u001b[49m\n\u001b[32m     78\u001b[39m         data_per_techno[techno].to_netcdf(nc_file_path)\n\u001b[32m     80\u001b[39m \u001b[38;5;66;03m# Merge technos for variable\u001b[39;00m\n",
      "\u001b[36mFile \u001b[39m\u001b[32m~/Library/CloudStorage/OneDrive-Nexus365/WEAVE/weave/weavepy/load.py:107\u001b[39m, in \u001b[36mget_data\u001b[39m\u001b[34m(variable, bdd_version, countries, technos, models, scenarios, aggregation_frequency, aggregation_function, verbose)\u001b[39m\n\u001b[32m    105\u001b[39m all_files = [f \u001b[38;5;28;01mfor\u001b[39;00m f \u001b[38;5;129;01min\u001b[39;00m data_path.rglob(\u001b[33m'\u001b[39m\u001b[33m*.csv\u001b[39m\u001b[33m'\u001b[39m) \u001b[38;5;28;01mif\u001b[39;00m variable \u001b[38;5;129;01min\u001b[39;00m \u001b[38;5;28mstr\u001b[39m(f) \u001b[38;5;129;01mand\u001b[39;00m \u001b[33m'\u001b[39m\u001b[33mReGrA\u001b[39m\u001b[33m'\u001b[39m \u001b[38;5;129;01mnot\u001b[39;00m \u001b[38;5;129;01min\u001b[39;00m \u001b[38;5;28mstr\u001b[39m(f)]\n\u001b[32m    106\u001b[39m \u001b[38;5;28;01mif\u001b[39;00m \u001b[38;5;129;01mnot\u001b[39;00m all_files:\n\u001b[32m--> \u001b[39m\u001b[32m107\u001b[39m     \u001b[38;5;28;01mraise\u001b[39;00m \u001b[38;5;167;01mFileNotFoundError\u001b[39;00m(\u001b[33mf\u001b[39m\u001b[33m\"\u001b[39m\u001b[33mNo matching CSV files found for variable \u001b[39m\u001b[33m'\u001b[39m\u001b[38;5;132;01m{\u001b[39;00mvariable\u001b[38;5;132;01m}\u001b[39;00m\u001b[33m'\u001b[39m\u001b[33m in \u001b[39m\u001b[38;5;132;01m{\u001b[39;00mdata_path\u001b[38;5;132;01m}\u001b[39;00m\u001b[33m\"\u001b[39m)\n\u001b[32m    109\u001b[39m meta = pd.DataFrame({\n\u001b[32m    110\u001b[39m     \u001b[33m'\u001b[39m\u001b[33mpath\u001b[39m\u001b[33m'\u001b[39m: all_files,\n\u001b[32m    111\u001b[39m     \u001b[33m'\u001b[39m\u001b[33mbasename\u001b[39m\u001b[33m'\u001b[39m: [os.path.basename(f) \u001b[38;5;28;01mfor\u001b[39;00m f \u001b[38;5;129;01min\u001b[39;00m all_files],\n\u001b[32m    112\u001b[39m })\n\u001b[32m    114\u001b[39m \u001b[38;5;66;03m# Extract metadata safely\u001b[39;00m\n",
      "\u001b[31mFileNotFoundError\u001b[39m: No matching CSV files found for variable 'SPV' in /Users/bourdin/Library/CloudStorage/OneDrive-Nexus365/WEAVE/PECD4.2"
     ]
    }
   ],
   "source": [
    "data = load_vars([climate_variable, energy_variable], bdd_version = BDD_VERSION,\n",
    "              countries = [country], technos = [\"NA\", techno], models = models, scenarios = scenarios, \n",
    "              aggregation_frequency = aggregation_frequency, aggregation_function = aggregation_function,\n",
    "              verbose=True)"
   ]
  },
  {
   "cell_type": "code",
   "execution_count": 4,
   "id": "bbd987e2-8375-49ed-9ba4-22945494a256",
   "metadata": {},
   "outputs": [],
   "source": [
    "# --- Period ---\n",
    "# These can be changed and adjusted easily\n",
    "historical_period = (1990, 2020)\n",
    "future_period = (2070, 2100)"
   ]
  },
  {
   "cell_type": "code",
   "execution_count": 5,
   "id": "041c3917-dbe1-4efa-9dc8-a8c56d31475d",
   "metadata": {},
   "outputs": [],
   "source": [
    "# --- Thresholds ---\n",
    "# These can be changed and adjusted easily\n",
    "comparisons = { # For each variable, choose among '<', '<=', '>', or '>='\n",
    "    climate_variable:'<=', \n",
    "    energy_variable:'<',\n",
    "}\n",
    "thresholds = { # Number in units of variable\n",
    "    climate_variable: 0,\n",
    "    energy_variable: 0.30\n",
    "}"
   ]
  },
  {
   "cell_type": "code",
   "execution_count": 6,
   "id": "6e898412-2bbe-425e-bc4f-c892485aa65f",
   "metadata": {},
   "outputs": [
    {
     "ename": "KeyError",
     "evalue": "\"No variable named 'WON'. Variables on the dataset include ['time', 'scenario', 'model', 'TA', 'country', 'tech']\"",
     "output_type": "error",
     "traceback": [
      "\u001b[31m---------------------------------------------------------------------------\u001b[39m",
      "\u001b[31mKeyError\u001b[39m                                  Traceback (most recent call last)",
      "\u001b[32m~/Softs/miniforge3/envs/weave/lib/python3.13/site-packages/xarray/core/dataset.py\u001b[39m in \u001b[36m?\u001b[39m\u001b[34m(self, name)\u001b[39m\n\u001b[32m   1153\u001b[39m             variable = self._variables[name]\n\u001b[32m   1154\u001b[39m         \u001b[38;5;28;01mexcept\u001b[39;00m KeyError:\n\u001b[32m-> \u001b[39m\u001b[32m1155\u001b[39m             _, name, variable = _get_virtual_variable(self._variables, name, self.sizes)\n\u001b[32m   1156\u001b[39m \n",
      "\u001b[31mKeyError\u001b[39m: 'WON'",
      "\nDuring handling of the above exception, another exception occurred:\n",
      "\u001b[31mKeyError\u001b[39m                                  Traceback (most recent call last)",
      "\u001b[36mFile \u001b[39m\u001b[32m~/Softs/miniforge3/envs/weave/lib/python3.13/site-packages/xarray/core/dataset.py:1252\u001b[39m, in \u001b[36mDataset.__getitem__\u001b[39m\u001b[34m(self, key)\u001b[39m\n\u001b[32m   1251\u001b[39m \u001b[38;5;28;01mtry\u001b[39;00m:\n\u001b[32m-> \u001b[39m\u001b[32m1252\u001b[39m     \u001b[38;5;28;01mreturn\u001b[39;00m \u001b[38;5;28;43mself\u001b[39;49m\u001b[43m.\u001b[49m\u001b[43m_construct_dataarray\u001b[49m\u001b[43m(\u001b[49m\u001b[43mkey\u001b[49m\u001b[43m)\u001b[49m\n\u001b[32m   1253\u001b[39m \u001b[38;5;28;01mexcept\u001b[39;00m \u001b[38;5;167;01mKeyError\u001b[39;00m \u001b[38;5;28;01mas\u001b[39;00m e:\n",
      "\u001b[36mFile \u001b[39m\u001b[32m~/Softs/miniforge3/envs/weave/lib/python3.13/site-packages/xarray/core/dataset.py:1155\u001b[39m, in \u001b[36mDataset._construct_dataarray\u001b[39m\u001b[34m(self, name)\u001b[39m\n\u001b[32m   1154\u001b[39m \u001b[38;5;28;01mexcept\u001b[39;00m \u001b[38;5;167;01mKeyError\u001b[39;00m:\n\u001b[32m-> \u001b[39m\u001b[32m1155\u001b[39m     _, name, variable = \u001b[43m_get_virtual_variable\u001b[49m\u001b[43m(\u001b[49m\u001b[38;5;28;43mself\u001b[39;49m\u001b[43m.\u001b[49m\u001b[43m_variables\u001b[49m\u001b[43m,\u001b[49m\u001b[43m \u001b[49m\u001b[43mname\u001b[49m\u001b[43m,\u001b[49m\u001b[43m \u001b[49m\u001b[38;5;28;43mself\u001b[39;49m\u001b[43m.\u001b[49m\u001b[43msizes\u001b[49m\u001b[43m)\u001b[49m\n\u001b[32m   1157\u001b[39m needed_dims = \u001b[38;5;28mset\u001b[39m(variable.dims)\n",
      "\u001b[36mFile \u001b[39m\u001b[32m~/Softs/miniforge3/envs/weave/lib/python3.13/site-packages/xarray/core/dataset_utils.py:79\u001b[39m, in \u001b[36m_get_virtual_variable\u001b[39m\u001b[34m(variables, key, dim_sizes)\u001b[39m\n\u001b[32m     78\u001b[39m \u001b[38;5;28;01mif\u001b[39;00m \u001b[38;5;28mlen\u001b[39m(split_key) != \u001b[32m2\u001b[39m:\n\u001b[32m---> \u001b[39m\u001b[32m79\u001b[39m     \u001b[38;5;28;01mraise\u001b[39;00m \u001b[38;5;167;01mKeyError\u001b[39;00m(key)\n\u001b[32m     81\u001b[39m ref_name, var_name = split_key\n",
      "\u001b[31mKeyError\u001b[39m: 'WON'",
      "\nThe above exception was the direct cause of the following exception:\n",
      "\u001b[31mKeyError\u001b[39m                                  Traceback (most recent call last)",
      "\u001b[32m/var/folders/g9/d22qhnc916x4jjtp0wczgszc0000gp/T/ipykernel_84451/3855170127.py\u001b[39m in \u001b[36m?\u001b[39m\u001b[34m()\u001b[39m\n\u001b[32m      1\u001b[39m \u001b[38;5;66;03m# Identify problematic days\u001b[39;00m\n\u001b[32m      2\u001b[39m days = {}\n\u001b[32m      3\u001b[39m \u001b[38;5;28;01mfor\u001b[39;00m var \u001b[38;5;28;01min\u001b[39;00m vars:\n\u001b[32m----> \u001b[39m\u001b[32m4\u001b[39m     days[var] = identify_pb_days(data[var], comparisons[var], thresholds[var])\n\u001b[32m      5\u001b[39m days[\u001b[33m\"compound\"\u001b[39m] = xr.concat(list(days.values()), dim = \u001b[33m\"var\"\u001b[39m).all(dim = \u001b[33m\"var\"\u001b[39m).rename(\u001b[33m\"compound\"\u001b[39m)\n\u001b[32m      6\u001b[39m \u001b[38;5;66;03m# Identify events\u001b[39;00m\n\u001b[32m      7\u001b[39m events = {}\n",
      "\u001b[32m~/Softs/miniforge3/envs/weave/lib/python3.13/site-packages/xarray/core/dataset.py\u001b[39m in \u001b[36m?\u001b[39m\u001b[34m(self, key)\u001b[39m\n\u001b[32m   1261\u001b[39m \n\u001b[32m   1262\u001b[39m                 \u001b[38;5;66;03m# If someone attempts `ds['foo' , 'bar']` instead of `ds[['foo', 'bar']]`\u001b[39;00m\n\u001b[32m   1263\u001b[39m                 \u001b[38;5;28;01mif\u001b[39;00m isinstance(key, tuple):\n\u001b[32m   1264\u001b[39m                     message += f\"\\nHint: use a list to select multiple variables, for example `ds[{list(key)}]`\"\n\u001b[32m-> \u001b[39m\u001b[32m1265\u001b[39m                 \u001b[38;5;28;01mraise\u001b[39;00m KeyError(message) \u001b[38;5;28;01mfrom\u001b[39;00m e\n\u001b[32m   1266\u001b[39m \n\u001b[32m   1267\u001b[39m         \u001b[38;5;28;01mif\u001b[39;00m utils.iterable_of_hashable(key):\n\u001b[32m   1268\u001b[39m             \u001b[38;5;28;01mreturn\u001b[39;00m self._copy_listed(key)\n",
      "\u001b[31mKeyError\u001b[39m: \"No variable named 'WON'. Variables on the dataset include ['time', 'scenario', 'model', 'TA', 'country', 'tech']\""
     ]
    }
   ],
   "source": [
    "# Identify problematic days\n",
    "days = {}\n",
    "for var in vars:\n",
    "    days[var] = identify_pb_days(data[var], comparisons[var], thresholds[var])\n",
    "days[\"compound\"] = xr.concat(list(days.values()), dim = \"var\").all(dim = \"var\").rename(\"compound\")\n",
    "# Identify events\n",
    "events = {}\n",
    "for var in vars + [\"compound\"]:\n",
    "    events[var] = identify_events_whole_base(days[var])"
   ]
  },
  {
   "cell_type": "markdown",
   "id": "443fd311-9c40-4278-bd29-aa797e0d8b22",
   "metadata": {},
   "source": [
    "## Number of events"
   ]
  },
  {
   "cell_type": "code",
   "execution_count": null,
   "id": "23a28b37-7e50-425f-b441-783ae3720f00",
   "metadata": {},
   "outputs": [],
   "source": [
    "event_count_barplot_multi(list(events.values()), historical_period, future_period)"
   ]
  },
  {
   "cell_type": "code",
   "execution_count": null,
   "id": "2f8f71b1-9c5c-4205-ba81-4a9b89fda4c9",
   "metadata": {},
   "outputs": [],
   "source": [
    "nb_event_timeseries_multi(list(events.values()))"
   ]
  },
  {
   "cell_type": "markdown",
   "id": "4a641b8d-5bf4-4aa5-b955-99e496857fee",
   "metadata": {},
   "source": [
    "## Duration "
   ]
  },
  {
   "cell_type": "code",
   "execution_count": null,
   "id": "ff0ec1bd-413d-4cc5-bf0d-154c6f73573d",
   "metadata": {},
   "outputs": [],
   "source": [
    "event_duration_hist_multi(list(events.values()), historical_period, future_period)"
   ]
  },
  {
   "cell_type": "markdown",
   "id": "ee7588d6-4722-4c55-9da1-0d9bd7180521",
   "metadata": {},
   "source": [
    "## Seasonality"
   ]
  },
  {
   "cell_type": "code",
   "execution_count": null,
   "id": "bfe3faaa-d995-406a-bd9f-48fb6bb711cf",
   "metadata": {},
   "outputs": [],
   "source": [
    "event_seasonality_kde_multi(list(days.values()), historical_period, future_period)"
   ]
  },
  {
   "cell_type": "code",
   "execution_count": null,
   "id": "8a26da89-0593-4e8f-ac71-421695eb83cc",
   "metadata": {},
   "outputs": [],
   "source": []
  }
 ],
 "metadata": {
  "kernelspec": {
   "display_name": "Python (weave)",
   "language": "python",
   "name": "weave"
  },
  "language_info": {
   "codemirror_mode": {
    "name": "ipython",
    "version": 3
   },
   "file_extension": ".py",
   "mimetype": "text/x-python",
   "name": "python",
   "nbconvert_exporter": "python",
   "pygments_lexer": "ipython3",
   "version": "3.13.3"
  }
 },
 "nbformat": 4,
 "nbformat_minor": 5
}
